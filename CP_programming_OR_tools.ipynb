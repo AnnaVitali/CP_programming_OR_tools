{
  "nbformat": 4,
  "nbformat_minor": 0,
  "metadata": {
    "colab": {
      "provenance": [],
      "authorship_tag": "ABX9TyP4ZXhAuv4GmtPF7OMV/BZb",
      "include_colab_link": true
    },
    "kernelspec": {
      "name": "python3",
      "display_name": "Python 3"
    },
    "language_info": {
      "name": "python"
    }
  },
  "cells": [
    {
      "cell_type": "markdown",
      "metadata": {
        "id": "view-in-github",
        "colab_type": "text"
      },
      "source": [
        "<a href=\"https://colab.research.google.com/github/AnnaVitali/CP_programming_OR_tools/blob/master/CP_programming_OR_tools.ipynb\" target=\"_parent\"><img src=\"https://colab.research.google.com/assets/colab-badge.svg\" alt=\"Open In Colab\"/></a>"
      ]
    },
    {
      "cell_type": "markdown",
      "source": [
        "# CP programming with OR-Tools\n",
        "\n",
        "COnstraint optimization, or constraint programming (CP), identifies feasible solutions out of a very large set of candidates, where the problem can be modeled in terms of arbitrary constraints. CP is based on feasibility (finding a feasible solution), rather rhan optimization (finding an optimal solution that maximize or minimize a certain objective function). However, CP can be used to solve optimization problems, simply by comparing the values of the objective function for all feasible solutions.\n",
        "\n",
        "CP porblem may not even have an objective function, the goal may simply be to narrow down a very large set of possibile solutions to  more manageable subset by adding constrints to the problem."
      ],
      "metadata": {
        "id": "UcCsCKvSF3lF"
      }
    },
    {
      "cell_type": "code",
      "execution_count": 1,
      "metadata": {
        "colab": {
          "base_uri": "https://localhost:8080/"
        },
        "id": "rYN_JS6b093S",
        "outputId": "21d0b240-fc67-4be2-f085-b1ab734b5477"
      },
      "outputs": [
        {
          "output_type": "stream",
          "name": "stdout",
          "text": [
            "Requirement already satisfied: ortools in /usr/local/lib/python3.10/dist-packages (9.8.3296)\n",
            "Requirement already satisfied: absl-py>=2.0.0 in /usr/local/lib/python3.10/dist-packages (from ortools) (2.1.0)\n",
            "Requirement already satisfied: numpy>=1.13.3 in /usr/local/lib/python3.10/dist-packages (from ortools) (1.23.5)\n",
            "Requirement already satisfied: pandas>=2.0.0 in /usr/local/lib/python3.10/dist-packages (from ortools) (2.2.0)\n",
            "Requirement already satisfied: protobuf>=4.25.0 in /usr/local/lib/python3.10/dist-packages (from ortools) (4.25.2)\n",
            "Requirement already satisfied: python-dateutil>=2.8.2 in /usr/local/lib/python3.10/dist-packages (from pandas>=2.0.0->ortools) (2.8.2)\n",
            "Requirement already satisfied: pytz>=2020.1 in /usr/local/lib/python3.10/dist-packages (from pandas>=2.0.0->ortools) (2023.4)\n",
            "Requirement already satisfied: tzdata>=2022.7 in /usr/local/lib/python3.10/dist-packages (from pandas>=2.0.0->ortools) (2023.4)\n",
            "Requirement already satisfied: six>=1.5 in /usr/local/lib/python3.10/dist-packages (from python-dateutil>=2.8.2->pandas>=2.0.0->ortools) (1.16.0)\n"
          ]
        }
      ],
      "source": [
        "%pip install ortools"
      ]
    },
    {
      "cell_type": "code",
      "source": [
        "from ortools.sat.python import cp_model\n",
        "import random"
      ],
      "metadata": {
        "id": "e-V5159cOuS5"
      },
      "execution_count": 28,
      "outputs": []
    },
    {
      "cell_type": "markdown",
      "source": [
        "The basic steps for setting up and solving a problem are the same:\n",
        "\n",
        "1. Import the required libraries,\n",
        "2. Declare the solver,\n",
        "3. Create the variables,\n",
        "4. Define the constraints,\n",
        "5. Define the objective function,\n",
        "6. Invoke the solver,\n",
        "7. Display the result."
      ],
      "metadata": {
        "id": "6FRvY5oHF6nr"
      }
    },
    {
      "cell_type": "markdown",
      "source": [
        "## Simple example\n",
        "Let's start with a simple example problem in  which there are:\n",
        " - three variables: x, y and z each of which cam take on the values: 0, 1 or 2\n",
        " - one constraint x != y"
      ],
      "metadata": {
        "id": "IQJmGwwaNxd0"
      }
    },
    {
      "cell_type": "code",
      "source": [
        "# step 2 - deifning the model\n",
        "model = cp_model.CpModel()"
      ],
      "metadata": {
        "id": "C-lahd7mNw4C"
      },
      "execution_count": 22,
      "outputs": []
    },
    {
      "cell_type": "code",
      "source": [
        "# step 3 - defining the variables\n",
        "num_vals = 3\n",
        "\n",
        "x = model.NewIntVar(0, num_vals - 1, \"x\")\n",
        "y = model.NewIntVar(0, num_vals - 1, \"y\")\n",
        "z = model.NewIntVar(0, num_vals - 1, \"z\")"
      ],
      "metadata": {
        "id": "OsgsTNKOOiQe"
      },
      "execution_count": 24,
      "outputs": []
    },
    {
      "cell_type": "code",
      "source": [
        "# step 4 - defining the constraints\n",
        "model.Add(x != y)"
      ],
      "metadata": {
        "colab": {
          "base_uri": "https://localhost:8080/"
        },
        "id": "fzPTiL54PPZ5",
        "outputId": "43e09591-ee9d-4de7-89d4-f04cef1a7551"
      },
      "execution_count": 25,
      "outputs": [
        {
          "output_type": "execute_result",
          "data": {
            "text/plain": [
              "<ortools.sat.python.cp_model.Constraint at 0x78326e29b190>"
            ]
          },
          "metadata": {},
          "execution_count": 25
        }
      ]
    },
    {
      "cell_type": "code",
      "source": [
        "# step 5 - call the solver\n",
        "solver = cp_model.CpSolver()\n",
        "status = solver.Solve(model)\n",
        "\n",
        "if status == cp_model.OPTIMAL or status == cp_model.FEASIBLE:\n",
        "  print(f\"x = {solver.Value(x)}\")\n",
        "  print(f\"y = {solver.Value(y)}\")\n",
        "  print(f\"z = {solver.Value(z)}\")\n",
        "else:\n",
        "  print(\"No solution found\")"
      ],
      "metadata": {
        "colab": {
          "base_uri": "https://localhost:8080/"
        },
        "id": "y9nHO7xGPakG",
        "outputId": "1420e611-021c-41f8-db4a-af96efd51792"
      },
      "execution_count": 30,
      "outputs": [
        {
          "output_type": "stream",
          "name": "stdout",
          "text": [
            "x = 1\n",
            "y = 0\n",
            "z = 0\n"
          ]
        }
      ]
    },
    {
      "cell_type": "markdown",
      "source": [
        "### Finding all solution\n",
        "In a problem like this you probably want to print all the feasible solutions or only a certain amount or part of them.\n",
        "\n",
        "For doing this the main addition to the program above is a **solution printer** with a callback that you pass to the solver, which display each solution as it is found."
      ],
      "metadata": {
        "id": "o0LUr7JjRAXd"
      }
    },
    {
      "cell_type": "code",
      "source": [
        "class VarArraySolutionPrinter(cp_model.CpSolverSolutionCallback):\n",
        "  \"\"\"Print intermediate solutions.\"\"\"\n",
        "\n",
        "  def __init__(self, variables):\n",
        "    cp_model.CpSolverSolutionCallback.__init__(self)\n",
        "    self.__variables = variables\n",
        "    self.__solution_count = 0\n",
        "\n",
        "  def on_solution_callback(self):\n",
        "    self.__solution_count += 1\n",
        "    print(f\"Solution number {self.__solution_count}\")\n",
        "    for v in self.__variables:\n",
        "      print(f\"{v}={self.Value(v)}\", end = \" \")\n",
        "      print(\" \")\n",
        "    print(\" \")\n",
        "\n",
        "  def solution_count(self):\n",
        "    return self.__solution_count\n",
        "\n",
        "class VarArraySolutionPrinterWithLimit(cp_model.CpSolverSolutionCallback):\n",
        "  \"\"\"Print intermediate solutions.\"\"\"\n",
        "\n",
        "  def __init__(self, variables, limit):\n",
        "    cp_model.CpSolverSolutionCallback.__init__(self)\n",
        "    self.__variables = variables\n",
        "    self.__solution_count = 0\n",
        "    self.__solution_limit = limit\n",
        "\n",
        "  def on_solution_callback(self):\n",
        "    self.__solution_count += 1\n",
        "    for v in self.__variables:\n",
        "      print(f\"{v} = {self.Value(v)}\", end=\" \")\n",
        "      print()\n",
        "      if self.__solution_count >= self.__solution_limit:\n",
        "        print(f\"Stop search after {self.__solution_limit} solutions\")\n",
        "        self.StopSearch()\n",
        "\n",
        "  def solution_count(self):\n",
        "    return self.__solution_count"
      ],
      "metadata": {
        "id": "EN22Ah6cRAA3"
      },
      "execution_count": 38,
      "outputs": []
    },
    {
      "cell_type": "code",
      "source": [
        "solution_printer = VarArraySolutionPrinter([x, y, z])\n",
        "# enumerate all solutions\n",
        "solver.parameters.enumerate_all_solutions = True\n",
        "\n",
        "# Solve\n",
        "status = solver.Solve(model, solution_printer)"
      ],
      "metadata": {
        "colab": {
          "base_uri": "https://localhost:8080/"
        },
        "id": "vnfzrtjAS3Y3",
        "outputId": "0ffa30d1-d296-4ad8-8914-7dc602d94065"
      },
      "execution_count": 36,
      "outputs": [
        {
          "output_type": "stream",
          "name": "stdout",
          "text": [
            "Solution number 1\n",
            "x=1  \n",
            "y=0  \n",
            "z=0  \n",
            " \n",
            "Solution number 2\n",
            "x=2  \n",
            "y=0  \n",
            "z=0  \n",
            " \n",
            "Solution number 3\n",
            "x=2  \n",
            "y=0  \n",
            "z=1  \n",
            " \n",
            "Solution number 4\n",
            "x=1  \n",
            "y=0  \n",
            "z=1  \n",
            " \n",
            "Solution number 5\n",
            "x=2  \n",
            "y=1  \n",
            "z=1  \n",
            " \n",
            "Solution number 6\n",
            "x=2  \n",
            "y=1  \n",
            "z=0  \n",
            " \n",
            "Solution number 7\n",
            "x=2  \n",
            "y=1  \n",
            "z=2  \n",
            " \n",
            "Solution number 8\n",
            "x=2  \n",
            "y=0  \n",
            "z=2  \n",
            " \n",
            "Solution number 9\n",
            "x=1  \n",
            "y=0  \n",
            "z=2  \n",
            " \n",
            "Solution number 10\n",
            "x=0  \n",
            "y=1  \n",
            "z=2  \n",
            " \n",
            "Solution number 11\n",
            "x=0  \n",
            "y=1  \n",
            "z=1  \n",
            " \n",
            "Solution number 12\n",
            "x=0  \n",
            "y=2  \n",
            "z=1  \n",
            " \n",
            "Solution number 13\n",
            "x=0  \n",
            "y=2  \n",
            "z=2  \n",
            " \n",
            "Solution number 14\n",
            "x=1  \n",
            "y=2  \n",
            "z=2  \n",
            " \n",
            "Solution number 15\n",
            "x=1  \n",
            "y=2  \n",
            "z=1  \n",
            " \n",
            "Solution number 16\n",
            "x=1  \n",
            "y=2  \n",
            "z=0  \n",
            " \n",
            "Solution number 17\n",
            "x=0  \n",
            "y=2  \n",
            "z=0  \n",
            " \n",
            "Solution number 18\n",
            "x=0  \n",
            "y=1  \n",
            "z=0  \n",
            " \n"
          ]
        }
      ]
    },
    {
      "cell_type": "markdown",
      "source": [
        "The previous section showed how to find all solutions to a CP problem Next, we'll show show how to find an optimal solution. As an example, we'll solve the following optimization problem.\n",
        "\n",
        "Maximize `2x + 3y + 3z` subject to the following constraints\n",
        "\n",
        "`x + 7/2y + 3/2z <= 25`\n",
        "\n",
        "`3x - 5y + 7z <= 45`\n",
        "\n",
        "`x, y, z >= 0`\n",
        "\n",
        "In order to increase computational speed, the CP-SAT solver works over the integers. This means all constraints and the objective must have integer coefficient. The first constraint doesn't meet this condition. To solve the porblem, we must first transform the constraint by multiplying it by a sufficiently large integer to convert all the coefficients to integers.\n",
        "\n",
        "We multiply the entire constraint by a sufficiently large integer to convert the coefficients to integers, in this case we multiply by 2\n",
        "\n",
        "`2x + 7y + 3z <= 50`"
      ],
      "metadata": {
        "id": "af7ixCfQhWMx"
      }
    },
    {
      "cell_type": "code",
      "source": [
        "model = cp_model.CpModel()\n",
        "\n",
        "var_upper_bound = max(50, 45, 37)\n",
        "\n",
        "# variables\n",
        "x = model.NewIntVar(0, var_upper_bound, \"x\")\n",
        "y = model.NewIntVar(0, var_upper_bound, \"y\")\n",
        "z = model.NewIntVar(0, var_upper_bound, \"z\")\n",
        "\n",
        "# constraint\n",
        "model.Add(2 * x + 7 * y + 3 * z <= 50)\n",
        "model.Add(3 * x - 5 * y + 7 * z <= 45)\n",
        "model.Add(5 * x + 2 * y - 6 * z <= 37)\n",
        "\n",
        "# objective function\n",
        "model.Maximize(2 * x + 2 * y + 3 * z)\n",
        "\n",
        "solver = cp_model.CpSolver()\n",
        "status = solver.Solve(model)\n",
        "\n",
        "solution_printer = VarArraySolutionPrinter([x, y, z])\n",
        "# enumerate all solutions\n",
        "solver.parameters.enumerate_all_solutions = True\n",
        "\n",
        "# Solve\n",
        "status = solver.Solve(model, solution_printer)"
      ],
      "metadata": {
        "colab": {
          "base_uri": "https://localhost:8080/"
        },
        "id": "vDU4Fscpl-Nw",
        "outputId": "3a6d517d-6afa-4278-e69d-d7565505aef0"
      },
      "execution_count": 37,
      "outputs": [
        {
          "output_type": "stream",
          "name": "stdout",
          "text": [
            "Solution number 1\n",
            "x=8  \n",
            "y=3  \n",
            "z=4  \n",
            " \n",
            "Solution number 2\n",
            "x=7  \n",
            "y=3  \n",
            "z=5  \n",
            " \n"
          ]
        }
      ]
    },
    {
      "cell_type": "markdown",
      "source": [
        "## Length of the strip problem\n",
        "\n",
        "There are N rectangles numbered from 0 to N-1. The K-th rectangle has size A[K] × B[K].\n",
        "\n",
        "We want to arrange as many rectangles as possible into a strip. The rectangles can be arranged into a strip if they all share a side of the same length (which becomes the height of the strip). Note that rectangles can be rotated.\n",
        "\n",
        "Write a function:\n",
        "\n",
        "class Solution { public int solution(int[] A, int[] B); }\n",
        "\n",
        "that, given two arrays A and B of N integers each, returns the maximum number of rectangles that can be arranged into a strip."
      ],
      "metadata": {
        "id": "3j51Y5GX18k-"
      }
    },
    {
      "cell_type": "code",
      "source": [
        "A = [random.randint(1, 1000000) for i in range(1000)]\n",
        "B = [random.randint(1, 1000000) for i in range(1000)]\n",
        "\n",
        "model = cp_model.CpModel()\n",
        "\n",
        "# we want to maximize the strip height\n",
        "# we don't know what the hight'll gonna be, but this is a variable for our problem\n",
        "strip_height = model.NewIntVar(1, 1000000000, \"strip height\")\n",
        "\n",
        "in_strip_vars = []\n",
        "rotated_in_strip_vars = []\n",
        "\n",
        "for i in range(len(A)):\n",
        "  # the value of the boolean variable will'be determined by the model\n",
        "  in_strip_vars.append(model.NewBoolVar(\"rectangle %d in strip\" % i))\n",
        "  rotated_in_strip_vars.append(model.NewBoolVar(\"rectangle %d rotated\" % i))\n",
        "\n",
        "  # we need to define the constraint, if the rectangle is in the strip the hight of it will be the hhight\n",
        "  # of the rectangle, if it is rotated it will be the width\n",
        "  # these are constraints conditioned by bool variables\n",
        "  model.Add(A[i] == strip_height).OnlyEnforceIf(in_strip_vars[i])\n",
        "  model.Add(B[i] == strip_height).OnlyEnforceIf(rotated_in_strip_vars[i])\n",
        "\n",
        "model.Maximize(sum(in_strip_vars + rotated_in_strip_vars)) # count the number of true bools"
      ],
      "metadata": {
        "id": "tg3WMHGE36We"
      },
      "execution_count": 3,
      "outputs": []
    },
    {
      "cell_type": "code",
      "source": [
        "solver = cp_model.CpSolver()\n",
        "solver.parameters.log_search_progress = True\n",
        "status = solver.Solve(model)\n",
        "\n",
        "if status == cp_model.OPTIMAL:\n",
        "  for i in range(len(A)):\n",
        "    if solver.Value(in_strip_vars[i]):\n",
        "      print(\"in strip rectangle %d, dimension: %d x %d\" % (i, B[i], A[i]))\n",
        "    elif solver.Value(rotated_in_strip_vars[i]):\n",
        "      print(\"in strip rectangle %d rotated, dimension: %d x %d\" % (i, A[i], B[i]))"
      ],
      "metadata": {
        "colab": {
          "base_uri": "https://localhost:8080/"
        },
        "id": "mzRDew9iHUf7",
        "outputId": "e50ae65c-0059-4476-9dac-7da043ffdf1b"
      },
      "execution_count": 4,
      "outputs": [
        {
          "output_type": "stream",
          "name": "stdout",
          "text": [
            "in strip rectangle 342 rotated, dimension: 182408 x 110968\n",
            "in strip rectangle 854 rotated, dimension: 247708 x 110968\n"
          ]
        }
      ]
    },
    {
      "cell_type": "markdown",
      "source": [
        "## Spread distance of the sheep's sunshade problem\n",
        "\n",
        "There are N sheep relaxing in a field. They are positioned at points with integer coordinates. Each sheep has a square sunshade, so as not to overheat. The sunshade of a sheep standing at position (X, Y) spreads out to a distance of D from (X, Y), covering a square whose middle is at (X, Y) and whose sides are of length 2D. More precisely, it covers a square with vertices in points (X − D, Y − D), (X − D, Y + D), (X + D, Y − D) and (X + D, Y + D). Sheep are in the centres of their sunshades. Sunshades edges are parallel to the coordinate axes.\n",
        "\n",
        "Every sheep spreads out its sunshade to the same width. No two sunshades can overlap, but their borders can touch.\n",
        "\n",
        "What is the maximum integer width D to which the sheep can spread out their sunshades?"
      ],
      "metadata": {
        "id": "oQ6_JRpZgD09"
      }
    },
    {
      "cell_type": "code",
      "source": [
        "X = [1, 1 , 8]\n",
        "Y = [1, 6, 0]\n",
        "\n",
        "MAX_DISTANCE = 100000\n",
        "\n",
        "model = cp_model.CpModel()\n",
        "\n",
        "distance = model.NewIntVar(0, MAX_DISTANCE, \"spread distance of the sunshade\")\n",
        "twice_distance = model.NewIntVar(0, 2 * MAX_DISTANCE, \"two times the spread distance of the sunshade\")\n",
        "model.Add(twice_distance == 2 * distance)\n",
        "\n",
        "#we need to define a costrain of non overlapping\n",
        "width_intervals = []\n",
        "height_intervals = []\n",
        "\n",
        "for i in range(len(X)):\n",
        "  left = model.NewIntVar(-MAX_DISTANCE, MAX_DISTANCE, \"left\")\n",
        "  model.Add(left == X[i] - distance)\n",
        "  right = model.NewIntVar(-MAX_DISTANCE, MAX_DISTANCE, \"right\")\n",
        "  model.Add(right == X[i] + distance)\n",
        "\n",
        "  width = model.NewIntervalVar(left, twice_distance, right, \"width for shade %d\" % i)\n",
        "  width_intervals.append(width)\n",
        "\n",
        "  top = model.NewIntVar(-MAX_DISTANCE, MAX_DISTANCE, \"top\")\n",
        "  model.Add(top == Y[i] + distance)\n",
        "  bottom = model.NewIntVar(-MAX_DISTANCE, MAX_DISTANCE, \"bottom\")\n",
        "  model.Add(bottom == Y[i] - distance)\n",
        "\n",
        "  height = model.NewIntervalVar(bottom, twice_distance, top, \"hight for shade %d\" % i)\n",
        "  height_intervals.append(height)\n",
        "\n",
        "model.AddNoOverlap2D(width_intervals, height_intervals)\n",
        "\n",
        "# we need to define the goal\n",
        "model.Maximize(distance)"
      ],
      "metadata": {
        "id": "nX5xFqKbgFe3"
      },
      "execution_count": 5,
      "outputs": []
    },
    {
      "cell_type": "code",
      "source": [
        "solver = cp_model.CpSolver()\n",
        "solver.parameters.log_search_progress = True\n",
        "status = solver.Solve(model)\n",
        "\n",
        "if status == cp_model.OPTIMAL:\n",
        "  print(\"spread distance of the sunshade %d\" % solver.Value(distance))\n",
        "  for i in range(len(X) - 1):\n",
        "    print(\"sheep in position (%d, %d)\" % (X[i], Y[i]))"
      ],
      "metadata": {
        "colab": {
          "base_uri": "https://localhost:8080/"
        },
        "id": "a191iKgko6Ez",
        "outputId": "e9c1dab8-082d-475d-8c3d-6d41b1387313"
      },
      "execution_count": 6,
      "outputs": [
        {
          "output_type": "stream",
          "name": "stdout",
          "text": [
            "spread distance of the sunshade 2\n",
            "sheep in position (1, 1)\n",
            "sheep in position (1, 6)\n"
          ]
        }
      ]
    },
    {
      "cell_type": "markdown",
      "source": [
        "## Building coverage problem\n",
        "\n",
        "There are N rectangular buildings standing along the road next to each other. The K-th building is of size H[K] × 1.\n",
        "\n",
        "Because a renovation of all of the buildings is planned, we want to cover them with rectangular banners until the renovations are finished. Of course, to cover a building, the banner has to be at least as high as the building. We can cover more than one building with a banner if it is wider than 1."
      ],
      "metadata": {
        "id": "9HnvEM8Jn4Z3"
      }
    },
    {
      "cell_type": "code",
      "source": [
        "H = [5, 3, 2, 4]\n",
        "NUM_BANNERS = 2\n",
        "\n",
        "max_height = max(H)\n",
        "\n",
        "model = cp_model.CpModel()\n",
        "\n",
        "#we need to define a costrains we want to cover all the buildings and use as less material as possibile\n",
        "#the part of the benner that don't cover any building should be the less possibile\n",
        "#if we compute the area of the banners and we sum them toghether we want to minimize that sum\n",
        "#we want to know where the first banner stops\n",
        "banner_1_width = model.NewIntVar(1, len(H), \"width first banner\")\n",
        "banner_2_width = model.NewIntVar(0, len(H), \"width second banner\")\n",
        "\n",
        "banner_1_height = model.NewIntVar(1, max_height, \"height first banner\")\n",
        "banner_2_height = model.NewIntVar(0, max_height, \"height second banner\")\n",
        "\n",
        "model.Add(banner_2_width == len(H) - banner_1_width)\n",
        "\n",
        "\n",
        "banner_1_area = model.NewIntVar(1, len(H) * max_height, \"area first banner\")\n",
        "banner_2_area = model.NewIntVar(0, len(H) * max_height, \"area second banner\")\n",
        "\n",
        "model.AddMultiplicationEquality(banner_1_area, [banner_1_width, banner_1_height])\n",
        "model.AddMultiplicationEquality(banner_2_area, [banner_2_width, banner_2_height])\n",
        "\n",
        "covered_by_banner1_vars = []\n",
        "covered_by_banner2_vars = []\n",
        "\n",
        "for x, h in enumerate(H):\n",
        "  #is covered by banner 1 or 2\n",
        "  covered_by_banner1 = model.NewBoolVar(\"building %d of height %d covered by banner 1\" % (x, h))\n",
        "  covered_by_banner2 = model.NewBoolVar(\"building %d of height %d covered by banner 2\" % (x, h))\n",
        "\n",
        "  covered_by_banner1_vars.append(covered_by_banner1)\n",
        "  covered_by_banner2_vars.append(covered_by_banner2)\n",
        "\n",
        "  #if banner 1 cover a building the same building can't be covered by number 2\n",
        "  model.AddBoolOr([covered_by_banner1, covered_by_banner2])\n",
        "  model.AddImplication(covered_by_banner1, covered_by_banner2.Not())\n",
        "  model.AddImplication(covered_by_banner2, covered_by_banner1.Not())\n",
        "\n",
        "  #if covered by banner 1\n",
        "  model.Add(x < banner_1_width).OnlyEnforceIf(covered_by_banner1)\n",
        "  model.Add(h <= banner_1_height).OnlyEnforceIf(covered_by_banner1)\n",
        "\n",
        "  #if covered by banner 2\n",
        "  model.Add(x >= banner_1_width).OnlyEnforceIf(covered_by_banner2)\n",
        "  model.Add(h <= banner_2_height).OnlyEnforceIf(covered_by_banner2)\n",
        "\n",
        "model.Minimize(banner_1_area + banner_2_area)"
      ],
      "metadata": {
        "id": "MZ5byau-1hDS"
      },
      "execution_count": 7,
      "outputs": []
    },
    {
      "cell_type": "code",
      "source": [
        "solver = cp_model.CpSolver()\n",
        "solver.parameters.log_search_progress = True\n",
        "status = solver.Solve(model)\n",
        "\n",
        "if status == cp_model.OPTIMAL:\n",
        "  print(\"area banner 1 %d\" % solver.Value(banner_1_area))\n",
        "  print(\"area banner 2 %d\" % solver.Value(banner_2_area))\n",
        "\n",
        "  for x, h in enumerate(H):\n",
        "    if(solver.Value(covered_by_banner1_vars[x])):\n",
        "      print(\"building %d covered by banner 1\" % x)\n",
        "    else:\n",
        "      print(\"building %d civered by banner 2\" % x)"
      ],
      "metadata": {
        "colab": {
          "base_uri": "https://localhost:8080/"
        },
        "id": "ZXeu5Ip8CiWz",
        "outputId": "8c53eaad-9c78-4150-dae4-fe454ad8fa4f"
      },
      "execution_count": 8,
      "outputs": [
        {
          "output_type": "stream",
          "name": "stdout",
          "text": [
            "area banner 1 5\n",
            "area banner 2 12\n",
            "building 0 covered by banner 1\n",
            "building 1 civered by banner 2\n",
            "building 2 civered by banner 2\n",
            "building 3 civered by banner 2\n"
          ]
        }
      ]
    },
    {
      "cell_type": "markdown",
      "source": [
        "## Multivitamin mix problem\n",
        "\n",
        "Rick is really fond of fruit juices, but he is bored of their traditional flavours. Therefore, he has decided to mix as many of them as possible to obtain something entirely new as a result.\n",
        "\n",
        "He has N glasses, numbered from 0 to N-1, each containing a different kind of juice. The J-th glass has capacity[J] units of capacity and contains juice[J] units of juice. In each glass there is at least one unit of juice.\n",
        "\n",
        "Rick want to create a multivitamin mix in one of the glasses. He is going to do it by pouring juice from several other glasses into the chosen one. Each of the used glasses must be empty at the end (all of the juice from each glass has to be poured out).\n",
        "\n",
        "What is the maximum number of flavours that Rick can mix?"
      ],
      "metadata": {
        "id": "XMlnLI6eo6ta"
      }
    },
    {
      "cell_type": "code",
      "source": [
        "juice = [10, 2, 1, 1]\n",
        "capacity = [10, 3, 2, 2]\n",
        "\n",
        "MAX_NUMBER = 1000000\n",
        "\n",
        "\n",
        "model = cp_model.CpModel()\n",
        "# galss[0, 1, 2, 3]\n",
        "# the capacity are fix we don't need to represent that we need to represent the sum of something\n",
        "# everything that goes on the first glass needs to add up o something that less than 10\n",
        "\n",
        "# for each juisce we want to know where it will go\n",
        "destination_glass_matrix = []\n",
        "# that because th solution want us to tell which juice moved to a different glass\n",
        "moved_to_self = []\n",
        "for i in range(len(juice)):\n",
        "  destination_glass_row = []\n",
        "  moved_to_self.append(model.NewBoolVar(\"moved to self %d\" % i))\n",
        "  for j in range(len(juice)):\n",
        "    destination_glass_row.append(model.NewBoolVar(\"juice %d is moving to glass %d\" % (i, j)))\n",
        "    # the juice can move only to one glass the row sum of the matrix should be 1\n",
        "  model.Add(sum(destination_glass_row) == 1)\n",
        "  model.Add(moved_to_self[i] == destination_glass_row[i])\n",
        "  destination_glass_matrix.append(destination_glass_row)\n",
        "\n",
        "#if we take a row of the matrix all the true in that row means tht juice is moving to that glass\n",
        "for i in range(len(juice)):\n",
        "  # i represent a particular glass with a capacity\n",
        "  # each true in that row means that juice moves here\n",
        "  # so we sum the juice that moved here and make sure it's less than capacity\n",
        "  capacity_moved = model.NewIntVar(0, MAX_NUMBER, \"filled capacity for this glass %d\" % i)\n",
        "  # all the juice need to be in glasses\n",
        "  model.Add(capacity_moved == cp_model.LinearExpr.WeightedSum(destination_glass_matrix[i], juice))\n",
        "  model.Add(capacity_moved <= capacity[i])\n",
        "\n",
        "\n",
        "model.Maximize(sum([boolvar for row in destination_glass_matrix for boolvar in row]) - sum(moved_to_self))"
      ],
      "metadata": {
        "id": "uMtS713kqKOQ"
      },
      "execution_count": 11,
      "outputs": []
    },
    {
      "cell_type": "code",
      "source": [
        "solver = cp_model.CpSolver()\n",
        "status = solver.Solve(model)\n",
        "\n",
        "if status == cp_model.OPTIMAL:\n",
        "  for i in range(len(juice)):\n",
        "    for j in range(len(juice)):\n",
        "      if solver.Value(destination_glass_matrix[i][j]):\n",
        "        print(\"juice %d moved to glass %d\" % (i, j))"
      ],
      "metadata": {
        "colab": {
          "base_uri": "https://localhost:8080/"
        },
        "id": "TD9w6GOY4W48",
        "outputId": "56b263bc-e861-40e9-df60-63e7cfe5effb"
      },
      "execution_count": 13,
      "outputs": [
        {
          "output_type": "stream",
          "name": "stdout",
          "text": [
            "juice 0 moved to glass 1\n",
            "juice 1 moved to glass 3\n",
            "juice 2 moved to glass 3\n",
            "juice 3 moved to glass 2\n"
          ]
        }
      ]
    }
  ]
}